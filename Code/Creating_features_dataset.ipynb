{
  "nbformat": 4,
  "nbformat_minor": 0,
  "metadata": {
    "colab": {
      "provenance": [],
      "include_colab_link": true
    },
    "kernelspec": {
      "name": "python3",
      "display_name": "Python 3"
    },
    "language_info": {
      "name": "python"
    },
    "widgets": {
      "application/vnd.jupyter.widget-state+json": {
        "cec7ce5a710b44b6a2fd7ff89b3093d8": {
          "model_module": "@jupyter-widgets/controls",
          "model_name": "HBoxModel",
          "model_module_version": "1.5.0",
          "state": {
            "_dom_classes": [],
            "_model_module": "@jupyter-widgets/controls",
            "_model_module_version": "1.5.0",
            "_model_name": "HBoxModel",
            "_view_count": null,
            "_view_module": "@jupyter-widgets/controls",
            "_view_module_version": "1.5.0",
            "_view_name": "HBoxView",
            "box_style": "",
            "children": [
              "IPY_MODEL_e4ba7c4fbf1742438c21b68daa6061d8",
              "IPY_MODEL_54d2c8d68f1746aea22aeab5f1d4904a",
              "IPY_MODEL_bb4623ec55df46b58900262686ddad4c"
            ],
            "layout": "IPY_MODEL_c8c4017b49b649b4bae02859861efa4c"
          }
        },
        "e4ba7c4fbf1742438c21b68daa6061d8": {
          "model_module": "@jupyter-widgets/controls",
          "model_name": "HTMLModel",
          "model_module_version": "1.5.0",
          "state": {
            "_dom_classes": [],
            "_model_module": "@jupyter-widgets/controls",
            "_model_module_version": "1.5.0",
            "_model_name": "HTMLModel",
            "_view_count": null,
            "_view_module": "@jupyter-widgets/controls",
            "_view_module_version": "1.5.0",
            "_view_name": "HTMLView",
            "description": "",
            "description_tooltip": null,
            "layout": "IPY_MODEL_a438d3641a714965b07808c0e421d2d5",
            "placeholder": "​",
            "style": "IPY_MODEL_674b9e5df576411c8b2d87671e9cb459",
            "value": "Downloading readme: 100%"
          }
        },
        "54d2c8d68f1746aea22aeab5f1d4904a": {
          "model_module": "@jupyter-widgets/controls",
          "model_name": "FloatProgressModel",
          "model_module_version": "1.5.0",
          "state": {
            "_dom_classes": [],
            "_model_module": "@jupyter-widgets/controls",
            "_model_module_version": "1.5.0",
            "_model_name": "FloatProgressModel",
            "_view_count": null,
            "_view_module": "@jupyter-widgets/controls",
            "_view_module_version": "1.5.0",
            "_view_name": "ProgressView",
            "bar_style": "success",
            "description": "",
            "description_tooltip": null,
            "layout": "IPY_MODEL_c14f500fd30c4aeb880b6099907164b2",
            "max": 5009,
            "min": 0,
            "orientation": "horizontal",
            "style": "IPY_MODEL_c783ed54b04e4846aea2d5ce77fed843",
            "value": 5009
          }
        },
        "bb4623ec55df46b58900262686ddad4c": {
          "model_module": "@jupyter-widgets/controls",
          "model_name": "HTMLModel",
          "model_module_version": "1.5.0",
          "state": {
            "_dom_classes": [],
            "_model_module": "@jupyter-widgets/controls",
            "_model_module_version": "1.5.0",
            "_model_name": "HTMLModel",
            "_view_count": null,
            "_view_module": "@jupyter-widgets/controls",
            "_view_module_version": "1.5.0",
            "_view_name": "HTMLView",
            "description": "",
            "description_tooltip": null,
            "layout": "IPY_MODEL_aef10a4713c049749f1554f99c5b8b71",
            "placeholder": "​",
            "style": "IPY_MODEL_21da2b757c294cdc8bfe001d166f401a",
            "value": " 5.01k/5.01k [00:00&lt;00:00, 51.4kB/s]"
          }
        },
        "c8c4017b49b649b4bae02859861efa4c": {
          "model_module": "@jupyter-widgets/base",
          "model_name": "LayoutModel",
          "model_module_version": "1.2.0",
          "state": {
            "_model_module": "@jupyter-widgets/base",
            "_model_module_version": "1.2.0",
            "_model_name": "LayoutModel",
            "_view_count": null,
            "_view_module": "@jupyter-widgets/base",
            "_view_module_version": "1.2.0",
            "_view_name": "LayoutView",
            "align_content": null,
            "align_items": null,
            "align_self": null,
            "border": null,
            "bottom": null,
            "display": null,
            "flex": null,
            "flex_flow": null,
            "grid_area": null,
            "grid_auto_columns": null,
            "grid_auto_flow": null,
            "grid_auto_rows": null,
            "grid_column": null,
            "grid_gap": null,
            "grid_row": null,
            "grid_template_areas": null,
            "grid_template_columns": null,
            "grid_template_rows": null,
            "height": null,
            "justify_content": null,
            "justify_items": null,
            "left": null,
            "margin": null,
            "max_height": null,
            "max_width": null,
            "min_height": null,
            "min_width": null,
            "object_fit": null,
            "object_position": null,
            "order": null,
            "overflow": null,
            "overflow_x": null,
            "overflow_y": null,
            "padding": null,
            "right": null,
            "top": null,
            "visibility": null,
            "width": null
          }
        },
        "a438d3641a714965b07808c0e421d2d5": {
          "model_module": "@jupyter-widgets/base",
          "model_name": "LayoutModel",
          "model_module_version": "1.2.0",
          "state": {
            "_model_module": "@jupyter-widgets/base",
            "_model_module_version": "1.2.0",
            "_model_name": "LayoutModel",
            "_view_count": null,
            "_view_module": "@jupyter-widgets/base",
            "_view_module_version": "1.2.0",
            "_view_name": "LayoutView",
            "align_content": null,
            "align_items": null,
            "align_self": null,
            "border": null,
            "bottom": null,
            "display": null,
            "flex": null,
            "flex_flow": null,
            "grid_area": null,
            "grid_auto_columns": null,
            "grid_auto_flow": null,
            "grid_auto_rows": null,
            "grid_column": null,
            "grid_gap": null,
            "grid_row": null,
            "grid_template_areas": null,
            "grid_template_columns": null,
            "grid_template_rows": null,
            "height": null,
            "justify_content": null,
            "justify_items": null,
            "left": null,
            "margin": null,
            "max_height": null,
            "max_width": null,
            "min_height": null,
            "min_width": null,
            "object_fit": null,
            "object_position": null,
            "order": null,
            "overflow": null,
            "overflow_x": null,
            "overflow_y": null,
            "padding": null,
            "right": null,
            "top": null,
            "visibility": null,
            "width": null
          }
        },
        "674b9e5df576411c8b2d87671e9cb459": {
          "model_module": "@jupyter-widgets/controls",
          "model_name": "DescriptionStyleModel",
          "model_module_version": "1.5.0",
          "state": {
            "_model_module": "@jupyter-widgets/controls",
            "_model_module_version": "1.5.0",
            "_model_name": "DescriptionStyleModel",
            "_view_count": null,
            "_view_module": "@jupyter-widgets/base",
            "_view_module_version": "1.2.0",
            "_view_name": "StyleView",
            "description_width": ""
          }
        },
        "c14f500fd30c4aeb880b6099907164b2": {
          "model_module": "@jupyter-widgets/base",
          "model_name": "LayoutModel",
          "model_module_version": "1.2.0",
          "state": {
            "_model_module": "@jupyter-widgets/base",
            "_model_module_version": "1.2.0",
            "_model_name": "LayoutModel",
            "_view_count": null,
            "_view_module": "@jupyter-widgets/base",
            "_view_module_version": "1.2.0",
            "_view_name": "LayoutView",
            "align_content": null,
            "align_items": null,
            "align_self": null,
            "border": null,
            "bottom": null,
            "display": null,
            "flex": null,
            "flex_flow": null,
            "grid_area": null,
            "grid_auto_columns": null,
            "grid_auto_flow": null,
            "grid_auto_rows": null,
            "grid_column": null,
            "grid_gap": null,
            "grid_row": null,
            "grid_template_areas": null,
            "grid_template_columns": null,
            "grid_template_rows": null,
            "height": null,
            "justify_content": null,
            "justify_items": null,
            "left": null,
            "margin": null,
            "max_height": null,
            "max_width": null,
            "min_height": null,
            "min_width": null,
            "object_fit": null,
            "object_position": null,
            "order": null,
            "overflow": null,
            "overflow_x": null,
            "overflow_y": null,
            "padding": null,
            "right": null,
            "top": null,
            "visibility": null,
            "width": null
          }
        },
        "c783ed54b04e4846aea2d5ce77fed843": {
          "model_module": "@jupyter-widgets/controls",
          "model_name": "ProgressStyleModel",
          "model_module_version": "1.5.0",
          "state": {
            "_model_module": "@jupyter-widgets/controls",
            "_model_module_version": "1.5.0",
            "_model_name": "ProgressStyleModel",
            "_view_count": null,
            "_view_module": "@jupyter-widgets/base",
            "_view_module_version": "1.2.0",
            "_view_name": "StyleView",
            "bar_color": null,
            "description_width": ""
          }
        },
        "aef10a4713c049749f1554f99c5b8b71": {
          "model_module": "@jupyter-widgets/base",
          "model_name": "LayoutModel",
          "model_module_version": "1.2.0",
          "state": {
            "_model_module": "@jupyter-widgets/base",
            "_model_module_version": "1.2.0",
            "_model_name": "LayoutModel",
            "_view_count": null,
            "_view_module": "@jupyter-widgets/base",
            "_view_module_version": "1.2.0",
            "_view_name": "LayoutView",
            "align_content": null,
            "align_items": null,
            "align_self": null,
            "border": null,
            "bottom": null,
            "display": null,
            "flex": null,
            "flex_flow": null,
            "grid_area": null,
            "grid_auto_columns": null,
            "grid_auto_flow": null,
            "grid_auto_rows": null,
            "grid_column": null,
            "grid_gap": null,
            "grid_row": null,
            "grid_template_areas": null,
            "grid_template_columns": null,
            "grid_template_rows": null,
            "height": null,
            "justify_content": null,
            "justify_items": null,
            "left": null,
            "margin": null,
            "max_height": null,
            "max_width": null,
            "min_height": null,
            "min_width": null,
            "object_fit": null,
            "object_position": null,
            "order": null,
            "overflow": null,
            "overflow_x": null,
            "overflow_y": null,
            "padding": null,
            "right": null,
            "top": null,
            "visibility": null,
            "width": null
          }
        },
        "21da2b757c294cdc8bfe001d166f401a": {
          "model_module": "@jupyter-widgets/controls",
          "model_name": "DescriptionStyleModel",
          "model_module_version": "1.5.0",
          "state": {
            "_model_module": "@jupyter-widgets/controls",
            "_model_module_version": "1.5.0",
            "_model_name": "DescriptionStyleModel",
            "_view_count": null,
            "_view_module": "@jupyter-widgets/base",
            "_view_module_version": "1.2.0",
            "_view_name": "StyleView",
            "description_width": ""
          }
        },
        "b094f3adea504d0e8843c5eb0edccbee": {
          "model_module": "@jupyter-widgets/controls",
          "model_name": "HBoxModel",
          "model_module_version": "1.5.0",
          "state": {
            "_dom_classes": [],
            "_model_module": "@jupyter-widgets/controls",
            "_model_module_version": "1.5.0",
            "_model_name": "HBoxModel",
            "_view_count": null,
            "_view_module": "@jupyter-widgets/controls",
            "_view_module_version": "1.5.0",
            "_view_name": "HBoxView",
            "box_style": "",
            "children": [
              "IPY_MODEL_1af8487650e345fe971bd584aa055d76",
              "IPY_MODEL_eac263c2b98345628c7474afc796c8e7",
              "IPY_MODEL_69f420f24fb742d99123444a6b3dbeb2"
            ],
            "layout": "IPY_MODEL_76cb66a6e50f462aa8ac5e8317573c8e"
          }
        },
        "1af8487650e345fe971bd584aa055d76": {
          "model_module": "@jupyter-widgets/controls",
          "model_name": "HTMLModel",
          "model_module_version": "1.5.0",
          "state": {
            "_dom_classes": [],
            "_model_module": "@jupyter-widgets/controls",
            "_model_module_version": "1.5.0",
            "_model_name": "HTMLModel",
            "_view_count": null,
            "_view_module": "@jupyter-widgets/controls",
            "_view_module_version": "1.5.0",
            "_view_name": "HTMLView",
            "description": "",
            "description_tooltip": null,
            "layout": "IPY_MODEL_683307bf95a04dad918f5b143ab91d40",
            "placeholder": "​",
            "style": "IPY_MODEL_29c3a76f65e44991b4dc559e3725c58a",
            "value": "Downloading data files: 100%"
          }
        },
        "eac263c2b98345628c7474afc796c8e7": {
          "model_module": "@jupyter-widgets/controls",
          "model_name": "FloatProgressModel",
          "model_module_version": "1.5.0",
          "state": {
            "_dom_classes": [],
            "_model_module": "@jupyter-widgets/controls",
            "_model_module_version": "1.5.0",
            "_model_name": "FloatProgressModel",
            "_view_count": null,
            "_view_module": "@jupyter-widgets/controls",
            "_view_module_version": "1.5.0",
            "_view_name": "ProgressView",
            "bar_style": "success",
            "description": "",
            "description_tooltip": null,
            "layout": "IPY_MODEL_81de3f5bc77a449686c90ce7ed029fb8",
            "max": 1,
            "min": 0,
            "orientation": "horizontal",
            "style": "IPY_MODEL_3f5484c5437b4952b7a7f6c1bf9622f6",
            "value": 1
          }
        },
        "69f420f24fb742d99123444a6b3dbeb2": {
          "model_module": "@jupyter-widgets/controls",
          "model_name": "HTMLModel",
          "model_module_version": "1.5.0",
          "state": {
            "_dom_classes": [],
            "_model_module": "@jupyter-widgets/controls",
            "_model_module_version": "1.5.0",
            "_model_name": "HTMLModel",
            "_view_count": null,
            "_view_module": "@jupyter-widgets/controls",
            "_view_module_version": "1.5.0",
            "_view_name": "HTMLView",
            "description": "",
            "description_tooltip": null,
            "layout": "IPY_MODEL_a93b6bf6c74642cfbb4a87e3d05244af",
            "placeholder": "​",
            "style": "IPY_MODEL_1f13e74c255a4c6d9eba4b19bb016012",
            "value": " 1/1 [00:03&lt;00:00,  3.44s/it]"
          }
        },
        "76cb66a6e50f462aa8ac5e8317573c8e": {
          "model_module": "@jupyter-widgets/base",
          "model_name": "LayoutModel",
          "model_module_version": "1.2.0",
          "state": {
            "_model_module": "@jupyter-widgets/base",
            "_model_module_version": "1.2.0",
            "_model_name": "LayoutModel",
            "_view_count": null,
            "_view_module": "@jupyter-widgets/base",
            "_view_module_version": "1.2.0",
            "_view_name": "LayoutView",
            "align_content": null,
            "align_items": null,
            "align_self": null,
            "border": null,
            "bottom": null,
            "display": null,
            "flex": null,
            "flex_flow": null,
            "grid_area": null,
            "grid_auto_columns": null,
            "grid_auto_flow": null,
            "grid_auto_rows": null,
            "grid_column": null,
            "grid_gap": null,
            "grid_row": null,
            "grid_template_areas": null,
            "grid_template_columns": null,
            "grid_template_rows": null,
            "height": null,
            "justify_content": null,
            "justify_items": null,
            "left": null,
            "margin": null,
            "max_height": null,
            "max_width": null,
            "min_height": null,
            "min_width": null,
            "object_fit": null,
            "object_position": null,
            "order": null,
            "overflow": null,
            "overflow_x": null,
            "overflow_y": null,
            "padding": null,
            "right": null,
            "top": null,
            "visibility": null,
            "width": null
          }
        },
        "683307bf95a04dad918f5b143ab91d40": {
          "model_module": "@jupyter-widgets/base",
          "model_name": "LayoutModel",
          "model_module_version": "1.2.0",
          "state": {
            "_model_module": "@jupyter-widgets/base",
            "_model_module_version": "1.2.0",
            "_model_name": "LayoutModel",
            "_view_count": null,
            "_view_module": "@jupyter-widgets/base",
            "_view_module_version": "1.2.0",
            "_view_name": "LayoutView",
            "align_content": null,
            "align_items": null,
            "align_self": null,
            "border": null,
            "bottom": null,
            "display": null,
            "flex": null,
            "flex_flow": null,
            "grid_area": null,
            "grid_auto_columns": null,
            "grid_auto_flow": null,
            "grid_auto_rows": null,
            "grid_column": null,
            "grid_gap": null,
            "grid_row": null,
            "grid_template_areas": null,
            "grid_template_columns": null,
            "grid_template_rows": null,
            "height": null,
            "justify_content": null,
            "justify_items": null,
            "left": null,
            "margin": null,
            "max_height": null,
            "max_width": null,
            "min_height": null,
            "min_width": null,
            "object_fit": null,
            "object_position": null,
            "order": null,
            "overflow": null,
            "overflow_x": null,
            "overflow_y": null,
            "padding": null,
            "right": null,
            "top": null,
            "visibility": null,
            "width": null
          }
        },
        "29c3a76f65e44991b4dc559e3725c58a": {
          "model_module": "@jupyter-widgets/controls",
          "model_name": "DescriptionStyleModel",
          "model_module_version": "1.5.0",
          "state": {
            "_model_module": "@jupyter-widgets/controls",
            "_model_module_version": "1.5.0",
            "_model_name": "DescriptionStyleModel",
            "_view_count": null,
            "_view_module": "@jupyter-widgets/base",
            "_view_module_version": "1.2.0",
            "_view_name": "StyleView",
            "description_width": ""
          }
        },
        "81de3f5bc77a449686c90ce7ed029fb8": {
          "model_module": "@jupyter-widgets/base",
          "model_name": "LayoutModel",
          "model_module_version": "1.2.0",
          "state": {
            "_model_module": "@jupyter-widgets/base",
            "_model_module_version": "1.2.0",
            "_model_name": "LayoutModel",
            "_view_count": null,
            "_view_module": "@jupyter-widgets/base",
            "_view_module_version": "1.2.0",
            "_view_name": "LayoutView",
            "align_content": null,
            "align_items": null,
            "align_self": null,
            "border": null,
            "bottom": null,
            "display": null,
            "flex": null,
            "flex_flow": null,
            "grid_area": null,
            "grid_auto_columns": null,
            "grid_auto_flow": null,
            "grid_auto_rows": null,
            "grid_column": null,
            "grid_gap": null,
            "grid_row": null,
            "grid_template_areas": null,
            "grid_template_columns": null,
            "grid_template_rows": null,
            "height": null,
            "justify_content": null,
            "justify_items": null,
            "left": null,
            "margin": null,
            "max_height": null,
            "max_width": null,
            "min_height": null,
            "min_width": null,
            "object_fit": null,
            "object_position": null,
            "order": null,
            "overflow": null,
            "overflow_x": null,
            "overflow_y": null,
            "padding": null,
            "right": null,
            "top": null,
            "visibility": null,
            "width": null
          }
        },
        "3f5484c5437b4952b7a7f6c1bf9622f6": {
          "model_module": "@jupyter-widgets/controls",
          "model_name": "ProgressStyleModel",
          "model_module_version": "1.5.0",
          "state": {
            "_model_module": "@jupyter-widgets/controls",
            "_model_module_version": "1.5.0",
            "_model_name": "ProgressStyleModel",
            "_view_count": null,
            "_view_module": "@jupyter-widgets/base",
            "_view_module_version": "1.2.0",
            "_view_name": "StyleView",
            "bar_color": null,
            "description_width": ""
          }
        },
        "a93b6bf6c74642cfbb4a87e3d05244af": {
          "model_module": "@jupyter-widgets/base",
          "model_name": "LayoutModel",
          "model_module_version": "1.2.0",
          "state": {
            "_model_module": "@jupyter-widgets/base",
            "_model_module_version": "1.2.0",
            "_model_name": "LayoutModel",
            "_view_count": null,
            "_view_module": "@jupyter-widgets/base",
            "_view_module_version": "1.2.0",
            "_view_name": "LayoutView",
            "align_content": null,
            "align_items": null,
            "align_self": null,
            "border": null,
            "bottom": null,
            "display": null,
            "flex": null,
            "flex_flow": null,
            "grid_area": null,
            "grid_auto_columns": null,
            "grid_auto_flow": null,
            "grid_auto_rows": null,
            "grid_column": null,
            "grid_gap": null,
            "grid_row": null,
            "grid_template_areas": null,
            "grid_template_columns": null,
            "grid_template_rows": null,
            "height": null,
            "justify_content": null,
            "justify_items": null,
            "left": null,
            "margin": null,
            "max_height": null,
            "max_width": null,
            "min_height": null,
            "min_width": null,
            "object_fit": null,
            "object_position": null,
            "order": null,
            "overflow": null,
            "overflow_x": null,
            "overflow_y": null,
            "padding": null,
            "right": null,
            "top": null,
            "visibility": null,
            "width": null
          }
        },
        "1f13e74c255a4c6d9eba4b19bb016012": {
          "model_module": "@jupyter-widgets/controls",
          "model_name": "DescriptionStyleModel",
          "model_module_version": "1.5.0",
          "state": {
            "_model_module": "@jupyter-widgets/controls",
            "_model_module_version": "1.5.0",
            "_model_name": "DescriptionStyleModel",
            "_view_count": null,
            "_view_module": "@jupyter-widgets/base",
            "_view_module_version": "1.2.0",
            "_view_name": "StyleView",
            "description_width": ""
          }
        },
        "c2ee20301bdf4c6692653356f70e94ea": {
          "model_module": "@jupyter-widgets/controls",
          "model_name": "HBoxModel",
          "model_module_version": "1.5.0",
          "state": {
            "_dom_classes": [],
            "_model_module": "@jupyter-widgets/controls",
            "_model_module_version": "1.5.0",
            "_model_name": "HBoxModel",
            "_view_count": null,
            "_view_module": "@jupyter-widgets/controls",
            "_view_module_version": "1.5.0",
            "_view_name": "HBoxView",
            "box_style": "",
            "children": [
              "IPY_MODEL_6efbdc0c51774befaca3e2bfe8d27d74",
              "IPY_MODEL_8060b8b620e246aa94567d090efef1e7",
              "IPY_MODEL_f2251fde83c548009adac57f242318a1"
            ],
            "layout": "IPY_MODEL_59a21635bbe44005910b64bd31e29a54"
          }
        },
        "6efbdc0c51774befaca3e2bfe8d27d74": {
          "model_module": "@jupyter-widgets/controls",
          "model_name": "HTMLModel",
          "model_module_version": "1.5.0",
          "state": {
            "_dom_classes": [],
            "_model_module": "@jupyter-widgets/controls",
            "_model_module_version": "1.5.0",
            "_model_name": "HTMLModel",
            "_view_count": null,
            "_view_module": "@jupyter-widgets/controls",
            "_view_module_version": "1.5.0",
            "_view_name": "HTMLView",
            "description": "",
            "description_tooltip": null,
            "layout": "IPY_MODEL_1db6767fc4eb4ff98bc03e3b7d836455",
            "placeholder": "​",
            "style": "IPY_MODEL_232856e22411494b89dc202ef88b61d6",
            "value": "Downloading data: 100%"
          }
        },
        "8060b8b620e246aa94567d090efef1e7": {
          "model_module": "@jupyter-widgets/controls",
          "model_name": "FloatProgressModel",
          "model_module_version": "1.5.0",
          "state": {
            "_dom_classes": [],
            "_model_module": "@jupyter-widgets/controls",
            "_model_module_version": "1.5.0",
            "_model_name": "FloatProgressModel",
            "_view_count": null,
            "_view_module": "@jupyter-widgets/controls",
            "_view_module_version": "1.5.0",
            "_view_name": "ProgressView",
            "bar_style": "success",
            "description": "",
            "description_tooltip": null,
            "layout": "IPY_MODEL_8cbe7733eb434dd5920555418dc09362",
            "max": 179653158,
            "min": 0,
            "orientation": "horizontal",
            "style": "IPY_MODEL_f2a14f5a6e4c447ca88f8fbe2a1afbd3",
            "value": 179653158
          }
        },
        "f2251fde83c548009adac57f242318a1": {
          "model_module": "@jupyter-widgets/controls",
          "model_name": "HTMLModel",
          "model_module_version": "1.5.0",
          "state": {
            "_dom_classes": [],
            "_model_module": "@jupyter-widgets/controls",
            "_model_module_version": "1.5.0",
            "_model_name": "HTMLModel",
            "_view_count": null,
            "_view_module": "@jupyter-widgets/controls",
            "_view_module_version": "1.5.0",
            "_view_name": "HTMLView",
            "description": "",
            "description_tooltip": null,
            "layout": "IPY_MODEL_6c9cf968220c4ff5886788548596c897",
            "placeholder": "​",
            "style": "IPY_MODEL_a58efa13770340e191b86e12ebb2dc8f",
            "value": " 180M/180M [00:02&lt;00:00, 59.9MB/s]"
          }
        },
        "59a21635bbe44005910b64bd31e29a54": {
          "model_module": "@jupyter-widgets/base",
          "model_name": "LayoutModel",
          "model_module_version": "1.2.0",
          "state": {
            "_model_module": "@jupyter-widgets/base",
            "_model_module_version": "1.2.0",
            "_model_name": "LayoutModel",
            "_view_count": null,
            "_view_module": "@jupyter-widgets/base",
            "_view_module_version": "1.2.0",
            "_view_name": "LayoutView",
            "align_content": null,
            "align_items": null,
            "align_self": null,
            "border": null,
            "bottom": null,
            "display": null,
            "flex": null,
            "flex_flow": null,
            "grid_area": null,
            "grid_auto_columns": null,
            "grid_auto_flow": null,
            "grid_auto_rows": null,
            "grid_column": null,
            "grid_gap": null,
            "grid_row": null,
            "grid_template_areas": null,
            "grid_template_columns": null,
            "grid_template_rows": null,
            "height": null,
            "justify_content": null,
            "justify_items": null,
            "left": null,
            "margin": null,
            "max_height": null,
            "max_width": null,
            "min_height": null,
            "min_width": null,
            "object_fit": null,
            "object_position": null,
            "order": null,
            "overflow": null,
            "overflow_x": null,
            "overflow_y": null,
            "padding": null,
            "right": null,
            "top": null,
            "visibility": null,
            "width": null
          }
        },
        "1db6767fc4eb4ff98bc03e3b7d836455": {
          "model_module": "@jupyter-widgets/base",
          "model_name": "LayoutModel",
          "model_module_version": "1.2.0",
          "state": {
            "_model_module": "@jupyter-widgets/base",
            "_model_module_version": "1.2.0",
            "_model_name": "LayoutModel",
            "_view_count": null,
            "_view_module": "@jupyter-widgets/base",
            "_view_module_version": "1.2.0",
            "_view_name": "LayoutView",
            "align_content": null,
            "align_items": null,
            "align_self": null,
            "border": null,
            "bottom": null,
            "display": null,
            "flex": null,
            "flex_flow": null,
            "grid_area": null,
            "grid_auto_columns": null,
            "grid_auto_flow": null,
            "grid_auto_rows": null,
            "grid_column": null,
            "grid_gap": null,
            "grid_row": null,
            "grid_template_areas": null,
            "grid_template_columns": null,
            "grid_template_rows": null,
            "height": null,
            "justify_content": null,
            "justify_items": null,
            "left": null,
            "margin": null,
            "max_height": null,
            "max_width": null,
            "min_height": null,
            "min_width": null,
            "object_fit": null,
            "object_position": null,
            "order": null,
            "overflow": null,
            "overflow_x": null,
            "overflow_y": null,
            "padding": null,
            "right": null,
            "top": null,
            "visibility": null,
            "width": null
          }
        },
        "232856e22411494b89dc202ef88b61d6": {
          "model_module": "@jupyter-widgets/controls",
          "model_name": "DescriptionStyleModel",
          "model_module_version": "1.5.0",
          "state": {
            "_model_module": "@jupyter-widgets/controls",
            "_model_module_version": "1.5.0",
            "_model_name": "DescriptionStyleModel",
            "_view_count": null,
            "_view_module": "@jupyter-widgets/base",
            "_view_module_version": "1.2.0",
            "_view_name": "StyleView",
            "description_width": ""
          }
        },
        "8cbe7733eb434dd5920555418dc09362": {
          "model_module": "@jupyter-widgets/base",
          "model_name": "LayoutModel",
          "model_module_version": "1.2.0",
          "state": {
            "_model_module": "@jupyter-widgets/base",
            "_model_module_version": "1.2.0",
            "_model_name": "LayoutModel",
            "_view_count": null,
            "_view_module": "@jupyter-widgets/base",
            "_view_module_version": "1.2.0",
            "_view_name": "LayoutView",
            "align_content": null,
            "align_items": null,
            "align_self": null,
            "border": null,
            "bottom": null,
            "display": null,
            "flex": null,
            "flex_flow": null,
            "grid_area": null,
            "grid_auto_columns": null,
            "grid_auto_flow": null,
            "grid_auto_rows": null,
            "grid_column": null,
            "grid_gap": null,
            "grid_row": null,
            "grid_template_areas": null,
            "grid_template_columns": null,
            "grid_template_rows": null,
            "height": null,
            "justify_content": null,
            "justify_items": null,
            "left": null,
            "margin": null,
            "max_height": null,
            "max_width": null,
            "min_height": null,
            "min_width": null,
            "object_fit": null,
            "object_position": null,
            "order": null,
            "overflow": null,
            "overflow_x": null,
            "overflow_y": null,
            "padding": null,
            "right": null,
            "top": null,
            "visibility": null,
            "width": null
          }
        },
        "f2a14f5a6e4c447ca88f8fbe2a1afbd3": {
          "model_module": "@jupyter-widgets/controls",
          "model_name": "ProgressStyleModel",
          "model_module_version": "1.5.0",
          "state": {
            "_model_module": "@jupyter-widgets/controls",
            "_model_module_version": "1.5.0",
            "_model_name": "ProgressStyleModel",
            "_view_count": null,
            "_view_module": "@jupyter-widgets/base",
            "_view_module_version": "1.2.0",
            "_view_name": "StyleView",
            "bar_color": null,
            "description_width": ""
          }
        },
        "6c9cf968220c4ff5886788548596c897": {
          "model_module": "@jupyter-widgets/base",
          "model_name": "LayoutModel",
          "model_module_version": "1.2.0",
          "state": {
            "_model_module": "@jupyter-widgets/base",
            "_model_module_version": "1.2.0",
            "_model_name": "LayoutModel",
            "_view_count": null,
            "_view_module": "@jupyter-widgets/base",
            "_view_module_version": "1.2.0",
            "_view_name": "LayoutView",
            "align_content": null,
            "align_items": null,
            "align_self": null,
            "border": null,
            "bottom": null,
            "display": null,
            "flex": null,
            "flex_flow": null,
            "grid_area": null,
            "grid_auto_columns": null,
            "grid_auto_flow": null,
            "grid_auto_rows": null,
            "grid_column": null,
            "grid_gap": null,
            "grid_row": null,
            "grid_template_areas": null,
            "grid_template_columns": null,
            "grid_template_rows": null,
            "height": null,
            "justify_content": null,
            "justify_items": null,
            "left": null,
            "margin": null,
            "max_height": null,
            "max_width": null,
            "min_height": null,
            "min_width": null,
            "object_fit": null,
            "object_position": null,
            "order": null,
            "overflow": null,
            "overflow_x": null,
            "overflow_y": null,
            "padding": null,
            "right": null,
            "top": null,
            "visibility": null,
            "width": null
          }
        },
        "a58efa13770340e191b86e12ebb2dc8f": {
          "model_module": "@jupyter-widgets/controls",
          "model_name": "DescriptionStyleModel",
          "model_module_version": "1.5.0",
          "state": {
            "_model_module": "@jupyter-widgets/controls",
            "_model_module_version": "1.5.0",
            "_model_name": "DescriptionStyleModel",
            "_view_count": null,
            "_view_module": "@jupyter-widgets/base",
            "_view_module_version": "1.2.0",
            "_view_name": "StyleView",
            "description_width": ""
          }
        },
        "2aaed71bdd3b426abddafc7baaaf2462": {
          "model_module": "@jupyter-widgets/controls",
          "model_name": "HBoxModel",
          "model_module_version": "1.5.0",
          "state": {
            "_dom_classes": [],
            "_model_module": "@jupyter-widgets/controls",
            "_model_module_version": "1.5.0",
            "_model_name": "HBoxModel",
            "_view_count": null,
            "_view_module": "@jupyter-widgets/controls",
            "_view_module_version": "1.5.0",
            "_view_name": "HBoxView",
            "box_style": "",
            "children": [
              "IPY_MODEL_3d292c5a15db4876808bdeed88e962fb",
              "IPY_MODEL_3e8b7e668efb47b5a166e52494bb50eb",
              "IPY_MODEL_054a71b0e12f4d3ba17897169d4f2349"
            ],
            "layout": "IPY_MODEL_bbdfa7a0d37f4c8994ffbf7f90b35279"
          }
        },
        "3d292c5a15db4876808bdeed88e962fb": {
          "model_module": "@jupyter-widgets/controls",
          "model_name": "HTMLModel",
          "model_module_version": "1.5.0",
          "state": {
            "_dom_classes": [],
            "_model_module": "@jupyter-widgets/controls",
            "_model_module_version": "1.5.0",
            "_model_name": "HTMLModel",
            "_view_count": null,
            "_view_module": "@jupyter-widgets/controls",
            "_view_module_version": "1.5.0",
            "_view_name": "HTMLView",
            "description": "",
            "description_tooltip": null,
            "layout": "IPY_MODEL_60ddab2cfe534b62be2cea1283232a23",
            "placeholder": "​",
            "style": "IPY_MODEL_b15b2cc1b5f04e0a8e8853e3b4dea8bb",
            "value": "Extracting data files: 100%"
          }
        },
        "3e8b7e668efb47b5a166e52494bb50eb": {
          "model_module": "@jupyter-widgets/controls",
          "model_name": "FloatProgressModel",
          "model_module_version": "1.5.0",
          "state": {
            "_dom_classes": [],
            "_model_module": "@jupyter-widgets/controls",
            "_model_module_version": "1.5.0",
            "_model_name": "FloatProgressModel",
            "_view_count": null,
            "_view_module": "@jupyter-widgets/controls",
            "_view_module_version": "1.5.0",
            "_view_name": "ProgressView",
            "bar_style": "success",
            "description": "",
            "description_tooltip": null,
            "layout": "IPY_MODEL_b5d9d1412696459fa95ed8b1e66325c1",
            "max": 1,
            "min": 0,
            "orientation": "horizontal",
            "style": "IPY_MODEL_4f90dd1e4fd74573add6803ac067f200",
            "value": 1
          }
        },
        "054a71b0e12f4d3ba17897169d4f2349": {
          "model_module": "@jupyter-widgets/controls",
          "model_name": "HTMLModel",
          "model_module_version": "1.5.0",
          "state": {
            "_dom_classes": [],
            "_model_module": "@jupyter-widgets/controls",
            "_model_module_version": "1.5.0",
            "_model_name": "HTMLModel",
            "_view_count": null,
            "_view_module": "@jupyter-widgets/controls",
            "_view_module_version": "1.5.0",
            "_view_name": "HTMLView",
            "description": "",
            "description_tooltip": null,
            "layout": "IPY_MODEL_5e9fe845d2334beb8e2388e7ef11aa41",
            "placeholder": "​",
            "style": "IPY_MODEL_de957686f05749d585c63d2baab9c90e",
            "value": " 1/1 [00:00&lt;00:00, 40.68it/s]"
          }
        },
        "bbdfa7a0d37f4c8994ffbf7f90b35279": {
          "model_module": "@jupyter-widgets/base",
          "model_name": "LayoutModel",
          "model_module_version": "1.2.0",
          "state": {
            "_model_module": "@jupyter-widgets/base",
            "_model_module_version": "1.2.0",
            "_model_name": "LayoutModel",
            "_view_count": null,
            "_view_module": "@jupyter-widgets/base",
            "_view_module_version": "1.2.0",
            "_view_name": "LayoutView",
            "align_content": null,
            "align_items": null,
            "align_self": null,
            "border": null,
            "bottom": null,
            "display": null,
            "flex": null,
            "flex_flow": null,
            "grid_area": null,
            "grid_auto_columns": null,
            "grid_auto_flow": null,
            "grid_auto_rows": null,
            "grid_column": null,
            "grid_gap": null,
            "grid_row": null,
            "grid_template_areas": null,
            "grid_template_columns": null,
            "grid_template_rows": null,
            "height": null,
            "justify_content": null,
            "justify_items": null,
            "left": null,
            "margin": null,
            "max_height": null,
            "max_width": null,
            "min_height": null,
            "min_width": null,
            "object_fit": null,
            "object_position": null,
            "order": null,
            "overflow": null,
            "overflow_x": null,
            "overflow_y": null,
            "padding": null,
            "right": null,
            "top": null,
            "visibility": null,
            "width": null
          }
        },
        "60ddab2cfe534b62be2cea1283232a23": {
          "model_module": "@jupyter-widgets/base",
          "model_name": "LayoutModel",
          "model_module_version": "1.2.0",
          "state": {
            "_model_module": "@jupyter-widgets/base",
            "_model_module_version": "1.2.0",
            "_model_name": "LayoutModel",
            "_view_count": null,
            "_view_module": "@jupyter-widgets/base",
            "_view_module_version": "1.2.0",
            "_view_name": "LayoutView",
            "align_content": null,
            "align_items": null,
            "align_self": null,
            "border": null,
            "bottom": null,
            "display": null,
            "flex": null,
            "flex_flow": null,
            "grid_area": null,
            "grid_auto_columns": null,
            "grid_auto_flow": null,
            "grid_auto_rows": null,
            "grid_column": null,
            "grid_gap": null,
            "grid_row": null,
            "grid_template_areas": null,
            "grid_template_columns": null,
            "grid_template_rows": null,
            "height": null,
            "justify_content": null,
            "justify_items": null,
            "left": null,
            "margin": null,
            "max_height": null,
            "max_width": null,
            "min_height": null,
            "min_width": null,
            "object_fit": null,
            "object_position": null,
            "order": null,
            "overflow": null,
            "overflow_x": null,
            "overflow_y": null,
            "padding": null,
            "right": null,
            "top": null,
            "visibility": null,
            "width": null
          }
        },
        "b15b2cc1b5f04e0a8e8853e3b4dea8bb": {
          "model_module": "@jupyter-widgets/controls",
          "model_name": "DescriptionStyleModel",
          "model_module_version": "1.5.0",
          "state": {
            "_model_module": "@jupyter-widgets/controls",
            "_model_module_version": "1.5.0",
            "_model_name": "DescriptionStyleModel",
            "_view_count": null,
            "_view_module": "@jupyter-widgets/base",
            "_view_module_version": "1.2.0",
            "_view_name": "StyleView",
            "description_width": ""
          }
        },
        "b5d9d1412696459fa95ed8b1e66325c1": {
          "model_module": "@jupyter-widgets/base",
          "model_name": "LayoutModel",
          "model_module_version": "1.2.0",
          "state": {
            "_model_module": "@jupyter-widgets/base",
            "_model_module_version": "1.2.0",
            "_model_name": "LayoutModel",
            "_view_count": null,
            "_view_module": "@jupyter-widgets/base",
            "_view_module_version": "1.2.0",
            "_view_name": "LayoutView",
            "align_content": null,
            "align_items": null,
            "align_self": null,
            "border": null,
            "bottom": null,
            "display": null,
            "flex": null,
            "flex_flow": null,
            "grid_area": null,
            "grid_auto_columns": null,
            "grid_auto_flow": null,
            "grid_auto_rows": null,
            "grid_column": null,
            "grid_gap": null,
            "grid_row": null,
            "grid_template_areas": null,
            "grid_template_columns": null,
            "grid_template_rows": null,
            "height": null,
            "justify_content": null,
            "justify_items": null,
            "left": null,
            "margin": null,
            "max_height": null,
            "max_width": null,
            "min_height": null,
            "min_width": null,
            "object_fit": null,
            "object_position": null,
            "order": null,
            "overflow": null,
            "overflow_x": null,
            "overflow_y": null,
            "padding": null,
            "right": null,
            "top": null,
            "visibility": null,
            "width": null
          }
        },
        "4f90dd1e4fd74573add6803ac067f200": {
          "model_module": "@jupyter-widgets/controls",
          "model_name": "ProgressStyleModel",
          "model_module_version": "1.5.0",
          "state": {
            "_model_module": "@jupyter-widgets/controls",
            "_model_module_version": "1.5.0",
            "_model_name": "ProgressStyleModel",
            "_view_count": null,
            "_view_module": "@jupyter-widgets/base",
            "_view_module_version": "1.2.0",
            "_view_name": "StyleView",
            "bar_color": null,
            "description_width": ""
          }
        },
        "5e9fe845d2334beb8e2388e7ef11aa41": {
          "model_module": "@jupyter-widgets/base",
          "model_name": "LayoutModel",
          "model_module_version": "1.2.0",
          "state": {
            "_model_module": "@jupyter-widgets/base",
            "_model_module_version": "1.2.0",
            "_model_name": "LayoutModel",
            "_view_count": null,
            "_view_module": "@jupyter-widgets/base",
            "_view_module_version": "1.2.0",
            "_view_name": "LayoutView",
            "align_content": null,
            "align_items": null,
            "align_self": null,
            "border": null,
            "bottom": null,
            "display": null,
            "flex": null,
            "flex_flow": null,
            "grid_area": null,
            "grid_auto_columns": null,
            "grid_auto_flow": null,
            "grid_auto_rows": null,
            "grid_column": null,
            "grid_gap": null,
            "grid_row": null,
            "grid_template_areas": null,
            "grid_template_columns": null,
            "grid_template_rows": null,
            "height": null,
            "justify_content": null,
            "justify_items": null,
            "left": null,
            "margin": null,
            "max_height": null,
            "max_width": null,
            "min_height": null,
            "min_width": null,
            "object_fit": null,
            "object_position": null,
            "order": null,
            "overflow": null,
            "overflow_x": null,
            "overflow_y": null,
            "padding": null,
            "right": null,
            "top": null,
            "visibility": null,
            "width": null
          }
        },
        "de957686f05749d585c63d2baab9c90e": {
          "model_module": "@jupyter-widgets/controls",
          "model_name": "DescriptionStyleModel",
          "model_module_version": "1.5.0",
          "state": {
            "_model_module": "@jupyter-widgets/controls",
            "_model_module_version": "1.5.0",
            "_model_name": "DescriptionStyleModel",
            "_view_count": null,
            "_view_module": "@jupyter-widgets/base",
            "_view_module_version": "1.2.0",
            "_view_name": "StyleView",
            "description_width": ""
          }
        },
        "e91e4a9b8c4b4fb5adbba2755297eae4": {
          "model_module": "@jupyter-widgets/controls",
          "model_name": "HBoxModel",
          "model_module_version": "1.5.0",
          "state": {
            "_dom_classes": [],
            "_model_module": "@jupyter-widgets/controls",
            "_model_module_version": "1.5.0",
            "_model_name": "HBoxModel",
            "_view_count": null,
            "_view_module": "@jupyter-widgets/controls",
            "_view_module_version": "1.5.0",
            "_view_name": "HBoxView",
            "box_style": "",
            "children": [
              "IPY_MODEL_ee967191f61545249868a061f9045fec",
              "IPY_MODEL_c949e1fb830740808b7396f77dcc9732",
              "IPY_MODEL_8e06f6907ad04479b0ef6b760c54f832"
            ],
            "layout": "IPY_MODEL_72aa2d2a58c4423f9f09c4b91a5dc218"
          }
        },
        "ee967191f61545249868a061f9045fec": {
          "model_module": "@jupyter-widgets/controls",
          "model_name": "HTMLModel",
          "model_module_version": "1.5.0",
          "state": {
            "_dom_classes": [],
            "_model_module": "@jupyter-widgets/controls",
            "_model_module_version": "1.5.0",
            "_model_name": "HTMLModel",
            "_view_count": null,
            "_view_module": "@jupyter-widgets/controls",
            "_view_module_version": "1.5.0",
            "_view_name": "HTMLView",
            "description": "",
            "description_tooltip": null,
            "layout": "IPY_MODEL_54650c7e30fc44d093574af578927682",
            "placeholder": "​",
            "style": "IPY_MODEL_675796282e79459f946aaa2aadf6ffa5",
            "value": "Generating train split: "
          }
        },
        "c949e1fb830740808b7396f77dcc9732": {
          "model_module": "@jupyter-widgets/controls",
          "model_name": "FloatProgressModel",
          "model_module_version": "1.5.0",
          "state": {
            "_dom_classes": [],
            "_model_module": "@jupyter-widgets/controls",
            "_model_module_version": "1.5.0",
            "_model_name": "FloatProgressModel",
            "_view_count": null,
            "_view_module": "@jupyter-widgets/controls",
            "_view_module_version": "1.5.0",
            "_view_name": "ProgressView",
            "bar_style": "info",
            "description": "",
            "description_tooltip": null,
            "layout": "IPY_MODEL_9e2c2791ce964ce698216ec7ba307c55",
            "max": 1,
            "min": 0,
            "orientation": "horizontal",
            "style": "IPY_MODEL_5f25073f55f34f45bdd1446d7c690d41",
            "value": 1
          }
        },
        "8e06f6907ad04479b0ef6b760c54f832": {
          "model_module": "@jupyter-widgets/controls",
          "model_name": "HTMLModel",
          "model_module_version": "1.5.0",
          "state": {
            "_dom_classes": [],
            "_model_module": "@jupyter-widgets/controls",
            "_model_module_version": "1.5.0",
            "_model_name": "HTMLModel",
            "_view_count": null,
            "_view_module": "@jupyter-widgets/controls",
            "_view_module_version": "1.5.0",
            "_view_name": "HTMLView",
            "description": "",
            "description_tooltip": null,
            "layout": "IPY_MODEL_2da03b7335ec4bb7a129e9b20f06f76d",
            "placeholder": "​",
            "style": "IPY_MODEL_0e654d7d823949f191c5ec1dd457d6d1",
            "value": " 100000/0 [00:07&lt;00:00, 16068.97 examples/s]"
          }
        },
        "72aa2d2a58c4423f9f09c4b91a5dc218": {
          "model_module": "@jupyter-widgets/base",
          "model_name": "LayoutModel",
          "model_module_version": "1.2.0",
          "state": {
            "_model_module": "@jupyter-widgets/base",
            "_model_module_version": "1.2.0",
            "_model_name": "LayoutModel",
            "_view_count": null,
            "_view_module": "@jupyter-widgets/base",
            "_view_module_version": "1.2.0",
            "_view_name": "LayoutView",
            "align_content": null,
            "align_items": null,
            "align_self": null,
            "border": null,
            "bottom": null,
            "display": null,
            "flex": null,
            "flex_flow": null,
            "grid_area": null,
            "grid_auto_columns": null,
            "grid_auto_flow": null,
            "grid_auto_rows": null,
            "grid_column": null,
            "grid_gap": null,
            "grid_row": null,
            "grid_template_areas": null,
            "grid_template_columns": null,
            "grid_template_rows": null,
            "height": null,
            "justify_content": null,
            "justify_items": null,
            "left": null,
            "margin": null,
            "max_height": null,
            "max_width": null,
            "min_height": null,
            "min_width": null,
            "object_fit": null,
            "object_position": null,
            "order": null,
            "overflow": null,
            "overflow_x": null,
            "overflow_y": null,
            "padding": null,
            "right": null,
            "top": null,
            "visibility": "hidden",
            "width": null
          }
        },
        "54650c7e30fc44d093574af578927682": {
          "model_module": "@jupyter-widgets/base",
          "model_name": "LayoutModel",
          "model_module_version": "1.2.0",
          "state": {
            "_model_module": "@jupyter-widgets/base",
            "_model_module_version": "1.2.0",
            "_model_name": "LayoutModel",
            "_view_count": null,
            "_view_module": "@jupyter-widgets/base",
            "_view_module_version": "1.2.0",
            "_view_name": "LayoutView",
            "align_content": null,
            "align_items": null,
            "align_self": null,
            "border": null,
            "bottom": null,
            "display": null,
            "flex": null,
            "flex_flow": null,
            "grid_area": null,
            "grid_auto_columns": null,
            "grid_auto_flow": null,
            "grid_auto_rows": null,
            "grid_column": null,
            "grid_gap": null,
            "grid_row": null,
            "grid_template_areas": null,
            "grid_template_columns": null,
            "grid_template_rows": null,
            "height": null,
            "justify_content": null,
            "justify_items": null,
            "left": null,
            "margin": null,
            "max_height": null,
            "max_width": null,
            "min_height": null,
            "min_width": null,
            "object_fit": null,
            "object_position": null,
            "order": null,
            "overflow": null,
            "overflow_x": null,
            "overflow_y": null,
            "padding": null,
            "right": null,
            "top": null,
            "visibility": null,
            "width": null
          }
        },
        "675796282e79459f946aaa2aadf6ffa5": {
          "model_module": "@jupyter-widgets/controls",
          "model_name": "DescriptionStyleModel",
          "model_module_version": "1.5.0",
          "state": {
            "_model_module": "@jupyter-widgets/controls",
            "_model_module_version": "1.5.0",
            "_model_name": "DescriptionStyleModel",
            "_view_count": null,
            "_view_module": "@jupyter-widgets/base",
            "_view_module_version": "1.2.0",
            "_view_name": "StyleView",
            "description_width": ""
          }
        },
        "9e2c2791ce964ce698216ec7ba307c55": {
          "model_module": "@jupyter-widgets/base",
          "model_name": "LayoutModel",
          "model_module_version": "1.2.0",
          "state": {
            "_model_module": "@jupyter-widgets/base",
            "_model_module_version": "1.2.0",
            "_model_name": "LayoutModel",
            "_view_count": null,
            "_view_module": "@jupyter-widgets/base",
            "_view_module_version": "1.2.0",
            "_view_name": "LayoutView",
            "align_content": null,
            "align_items": null,
            "align_self": null,
            "border": null,
            "bottom": null,
            "display": null,
            "flex": null,
            "flex_flow": null,
            "grid_area": null,
            "grid_auto_columns": null,
            "grid_auto_flow": null,
            "grid_auto_rows": null,
            "grid_column": null,
            "grid_gap": null,
            "grid_row": null,
            "grid_template_areas": null,
            "grid_template_columns": null,
            "grid_template_rows": null,
            "height": null,
            "justify_content": null,
            "justify_items": null,
            "left": null,
            "margin": null,
            "max_height": null,
            "max_width": null,
            "min_height": null,
            "min_width": null,
            "object_fit": null,
            "object_position": null,
            "order": null,
            "overflow": null,
            "overflow_x": null,
            "overflow_y": null,
            "padding": null,
            "right": null,
            "top": null,
            "visibility": null,
            "width": "20px"
          }
        },
        "5f25073f55f34f45bdd1446d7c690d41": {
          "model_module": "@jupyter-widgets/controls",
          "model_name": "ProgressStyleModel",
          "model_module_version": "1.5.0",
          "state": {
            "_model_module": "@jupyter-widgets/controls",
            "_model_module_version": "1.5.0",
            "_model_name": "ProgressStyleModel",
            "_view_count": null,
            "_view_module": "@jupyter-widgets/base",
            "_view_module_version": "1.2.0",
            "_view_name": "StyleView",
            "bar_color": null,
            "description_width": ""
          }
        },
        "2da03b7335ec4bb7a129e9b20f06f76d": {
          "model_module": "@jupyter-widgets/base",
          "model_name": "LayoutModel",
          "model_module_version": "1.2.0",
          "state": {
            "_model_module": "@jupyter-widgets/base",
            "_model_module_version": "1.2.0",
            "_model_name": "LayoutModel",
            "_view_count": null,
            "_view_module": "@jupyter-widgets/base",
            "_view_module_version": "1.2.0",
            "_view_name": "LayoutView",
            "align_content": null,
            "align_items": null,
            "align_self": null,
            "border": null,
            "bottom": null,
            "display": null,
            "flex": null,
            "flex_flow": null,
            "grid_area": null,
            "grid_auto_columns": null,
            "grid_auto_flow": null,
            "grid_auto_rows": null,
            "grid_column": null,
            "grid_gap": null,
            "grid_row": null,
            "grid_template_areas": null,
            "grid_template_columns": null,
            "grid_template_rows": null,
            "height": null,
            "justify_content": null,
            "justify_items": null,
            "left": null,
            "margin": null,
            "max_height": null,
            "max_width": null,
            "min_height": null,
            "min_width": null,
            "object_fit": null,
            "object_position": null,
            "order": null,
            "overflow": null,
            "overflow_x": null,
            "overflow_y": null,
            "padding": null,
            "right": null,
            "top": null,
            "visibility": null,
            "width": null
          }
        },
        "0e654d7d823949f191c5ec1dd457d6d1": {
          "model_module": "@jupyter-widgets/controls",
          "model_name": "DescriptionStyleModel",
          "model_module_version": "1.5.0",
          "state": {
            "_model_module": "@jupyter-widgets/controls",
            "_model_module_version": "1.5.0",
            "_model_name": "DescriptionStyleModel",
            "_view_count": null,
            "_view_module": "@jupyter-widgets/base",
            "_view_module_version": "1.2.0",
            "_view_name": "StyleView",
            "description_width": ""
          }
        }
      }
    }
  },
  "cells": [
    {
      "cell_type": "markdown",
      "metadata": {
        "id": "view-in-github",
        "colab_type": "text"
      },
      "source": [
        "<a href=\"https://colab.research.google.com/github/julia-lukasiewicz-pater/gpt-wiki-features/blob/main/Code/Creating_features_dataset.ipynb\" target=\"_parent\"><img src=\"https://colab.research.google.com/assets/colab-badge.svg\" alt=\"Open In Colab\"/></a>"
      ]
    },
    {
      "cell_type": "markdown",
      "source": [
        "# Creating GPT-wiki-intro-features dataset\n",
        "\n",
        "\n",
        "In this notebook you can find the code used to create\n",
        "[GPT-wiki-intro-features dataset](https://huggingface.co/datasets/julia-lukasiewicz-pater/GPT-wiki-intro-features) \n",
        "\n",
        "and \n",
        "[small-GPT-wiki-intro-features dataset](https://huggingface.co/datasets/julia-lukasiewicz-pater/small-GPT-wiki-intro-features) from &#x1F917;HuggingFace.\n",
        "\n",
        "The full version of the dataset contains 150k short texts from Wikipedia (label 0) and corresponding texts generated by ChatGPT (label 1) (together 300k texts).\n",
        "\n",
        "The smaller version contains 100k short texts from Wikipedia (50k) and those generated by ChatGPT (50k). \n",
        "\n",
        "The texts come from a great [aadityaubhat/GPT-wiki-intro](https://huggingface.co/datasets/aadityaubhat/GPT-wiki-intro) dataset that you can consult for more details.\n",
        "\n",
        "For each text, a variety of text complexity measures have been calculated using various Python libraries: [NLTK](https://www.nltk.org/), [readibility-metrics](https://pypi.org/project/py-readability-metrics/), [lexical-diversity](https://pypi.org/project/lexical-diversity/), and [TextDescriptives](https://hlasse.github.io/TextDescriptives/).\n",
        "\n",
        "Let's see how it was done.\n"
      ],
      "metadata": {
        "id": "F8WQZuaM824h"
      }
    },
    {
      "cell_type": "markdown",
      "source": [
        "# Installing and loading libraries"
      ],
      "metadata": {
        "id": "mxEyD5eN88lL"
      }
    },
    {
      "cell_type": "code",
      "execution_count": null,
      "metadata": {
        "id": "FxjXJvvZ5QdI"
      },
      "outputs": [],
      "source": [
        "!pip install datasets\n",
        "!pip install py-readability-metrics\n",
        "!python -m nltk.downloader punkt\n",
        "!pip install lexical-diversity\n",
        "!pip install textdescriptives\n",
        "!python -m spacy download en_core_web_lg"
      ]
    },
    {
      "cell_type": "code",
      "source": [
        "from datasets import load_dataset, concatenate_datasets\n",
        "import pandas as pd\n",
        "import numpy as np\n",
        "import nltk\n",
        "from nltk.tokenize import sent_tokenize, word_tokenize\n",
        "nltk.download('universal_tagset')\n",
        "nltk.download('averaged_perceptron_tagger')\n",
        "from collections import Counter\n",
        "from readability import Readability\n",
        "from readability.exceptions import ReadabilityException\n",
        "from lexical_diversity import lex_div as ld\n",
        "import random\n",
        "import math\n",
        "import spacy\n",
        "import textdescriptives as td"
      ],
      "metadata": {
        "id": "sskkS8bZ7MXT"
      },
      "execution_count": null,
      "outputs": []
    },
    {
      "cell_type": "markdown",
      "source": [
        "# Functions"
      ],
      "metadata": {
        "id": "p4zgLmnR9MrW"
      }
    },
    {
      "cell_type": "markdown",
      "source": [
        "This section contains all the custom functions used to calculate linguistic features. \n",
        "\n",
        "* `estimate_max_bigram_entropy`: estimation of maximum bigram entropy on a sample of 1000 ChatGPT and 1000 Wikipedia texts \n",
        "\n",
        "* `estimate_bigram_entropy` : estimation of total bigram entropy for each text in the dataset\n",
        "\n",
        "* `count_part_of_speech`: creates a dictionary of part of speech counts for every text in the dataset\n",
        "\n",
        "* `add_features` : function calculating such features as mean_word_length, readability and lexical diversity measures etc. Used to add those features to the dataset.\n",
        "\n",
        "* `add_spacy_features` : calculating and adding the rest of the features (from TextDescription library)"
      ],
      "metadata": {
        "id": "MyopVQ0PCbfl"
      }
    },
    {
      "cell_type": "code",
      "source": [
        "def estimate_max_bigram_entropy(dataset):\n",
        "  random.seed(10)\n",
        "  random_wiki_indices = random.sample(range(0,150000),1000)\n",
        "  random_gpt_indices = random.sample(range(150000, 300001),1000)\n",
        "\n",
        "  wiki = dataset.select(random_wiki_indices)\n",
        "  gpt = dataset.select(random_gpt_indices)\n",
        "\n",
        "  small_dataset = concatenate_datasets([wiki,gpt])\n",
        "  words = word_tokenize(' '.join(small_dataset['text']))\n",
        "  bigrams = list(nltk.bigrams(words))\n",
        "  freq_dist = nltk.FreqDist(bigrams)\n",
        "  total_bigrams = len(bigrams)\n",
        "  entropy_values = [-freq_dist[bigram]/total_bigrams*math.log2(freq_dist[bigram]/total_bigrams) for bigram in freq_dist]\n",
        "  max_entropy = sum(entropy_values)\n",
        "  return max_entropy"
      ],
      "metadata": {
        "id": "PW0avHpa7TSu"
      },
      "execution_count": null,
      "outputs": []
    },
    {
      "cell_type": "code",
      "source": [
        "def estimate_bigram_entropy(text):\n",
        "  words = word_tokenize(text)\n",
        "  bigrams = list(nltk.bigrams(words))\n",
        "  freq_dist = nltk.FreqDist(bigrams)\n",
        "  total_bigrams = len(bigrams)\n",
        "  entropy_values = [-freq_dist[bigram]/total_bigrams*math.log2(freq_dist[bigram]/total_bigrams) for bigram in freq_dist]\n",
        "  total_entropy = sum(entropy_values)\n",
        "  return total_entropy\n"
      ],
      "metadata": {
        "id": "GFb9RwfY7Vos"
      },
      "execution_count": null,
      "outputs": []
    },
    {
      "cell_type": "code",
      "source": [
        "def count_part_of_speech(counted):\n",
        "  pos_tags =  {'ADJ':0, 'ADP':0, 'ADV':0, 'CONJ':0, 'DET':0, 'NOUN':0, 'NUM':0, 'PRT':0, 'PRON':0, 'VERB':0, '.':0, 'X':0}\n",
        "  values = [0 for i in range(len(pos_tags)+1)]\n",
        "  all_tags = dict(zip(pos_tags,values))\n",
        "  if set(counted.keys()).union(set(pos_tags)) == set(pos_tags): \n",
        "    result = {**all_tags, **counted}\n",
        "    return result\n",
        "  else:\n",
        "    return -1"
      ],
      "metadata": {
        "id": "5-Ox4CYM7WG8"
      },
      "execution_count": null,
      "outputs": []
    },
    {
      "cell_type": "code",
      "source": [
        "def add_features(example):\n",
        "  text = example['text']\n",
        "  words = word_tokenize(text)\n",
        "  sentences = sent_tokenize(text)\n",
        "  mean_sent_length = np.array(list(map(lambda x:len(word_tokenize(x)), sentences))).mean()\n",
        "  mean_word_length = np.array(list(map(lambda x:len(x), words))).mean()\n",
        "  tagged = nltk.pos_tag(words, tagset = 'universal')\n",
        "  unzipped_tags = list(zip(*tagged))[1]\n",
        "  counted_tags = Counter(unzipped_tags)\n",
        "  all_tags = count_part_of_speech(counted_tags)\n",
        "  num_tags = np.zeros(shape=(12))\n",
        "  for j, tag in enumerate(all_tags):\n",
        "        num_tags[j] = all_tags[tag]\n",
        "  r = Readability(text)\n",
        "  try:\n",
        "    gunning_fog = r.gunning_fog().score\n",
        "    ari = r.ari().score\n",
        "    dale_chall = r.dale_chall().score\n",
        "  except ReadabilityException:\n",
        "    gunning_fog = 0\n",
        "    ari = 0\n",
        "    dale_chall = 0\n",
        "\n",
        "  HDD = ld.hdd(words)\n",
        "  MTLD = ld.mtld(words)\n",
        "  MATTR = ld.mattr(words)\n",
        "\n",
        "  bigram_entropy = estimate_bigram_entropy(text)\n",
        "\n",
        "  example['normalized_bigram_entropy'] = bigram_entropy / max_bigram_entropy\n",
        "  example['mean_word_length'] = mean_word_length\n",
        "  example['mean_sent_length'] = mean_sent_length\n",
        "  example['fog'] = gunning_fog\n",
        "  example['ari'] = ari\n",
        "  example['dale_chall'] = dale_chall\n",
        "  example['hdd'] = HDD\n",
        "  example['mtld'] = MTLD\n",
        "  example['mattr'] = MATTR\n",
        "\n",
        "  example['number_of_ADJ'] =  num_tags[0] / len(words)\n",
        "  example['number_of_ADP'] = num_tags[1] / len(words)\n",
        "  example['number_of_ADV'] = num_tags[2] / len(words)\n",
        "  example['number_of_CONJ'] = num_tags[3] / len(words)\n",
        "  example['number_of_DET'] = num_tags[4] / len(words)\n",
        "  example['number_of_NOUN'] = num_tags[5] / len(words)\n",
        "  example['number_of_NUM'] = num_tags[6] / len(words)\n",
        "  example['number_of_PRT'] = num_tags[7] / len(words)\n",
        "  example['number_of_PRON'] = num_tags[8] / len(words)\n",
        "  example['number_of_VERB'] = num_tags[9] / len(words)\n",
        "  example['number_of_DOT'] = num_tags[10] / len(words)\n",
        "  example['number_of_X'] =  num_tags[11] / len(words)\n",
        "\n",
        "  return example"
      ],
      "metadata": {
        "id": "SV-a6FtN7XkE"
      },
      "execution_count": null,
      "outputs": []
    },
    {
      "cell_type": "code",
      "source": [
        "def add_spacy_features(example):\n",
        "  text = example['text']\n",
        "  doc = nlp(text)\n",
        "  features = td.extract_dict(doc)[0]\n",
        "  example['spacy_perplexity'] = features['perplexity']\n",
        "  example['entropy'] = features['entropy']\n",
        "  example['automated_readability_index'] = features['automated_readability_index']\n",
        "  example['per_word_spacy_perplexity'] = features['per_word_perplexity']\n",
        "  example['dependency_distance_mean'] = features['dependency_distance_mean']\n",
        "  example['dependency_distance_std'] = features['dependency_distance_std']\n",
        "  example['first_order_coherence'] = features['first_order_coherence']\n",
        "  example['second_order_coherence'] = features['second_order_coherence']\n",
        "  example['smog'] = features['smog']\n",
        "  example['prop_adjacent_dependency_relation_mean'] = features['prop_adjacent_dependency_relation_mean']\n",
        "  example['prop_adjacent_dependency_relation_std'] = features['prop_adjacent_dependency_relation_std']\n",
        "  example['syllables_per_token_mean'] = features['syllables_per_token_mean']\n",
        "  example['syllables_per_token_median'] = features['syllables_per_token_median']\n",
        "  example['token_length_std'] = features['token_length_std']\n",
        "  example['token_length_median'] = features['token_length_median']\n",
        "  example['sentence_length_median'] = features['sentence_length_median']\n",
        "  example['syllables_per_token_std'] = features['syllables_per_token_std']\n",
        "  example['proportion_unique_tokens'] = features['proportion_unique_tokens']\n",
        "  example['top_ngram_chr_fraction_3'] = features['top_ngram_chr_fraction_3']\n",
        "  example['top_ngram_chr_fraction_2'] = features['top_ngram_chr_fraction_2']\n",
        "  example['top_ngram_chr_fraction_4'] = features['top_ngram_chr_fraction_4']\n",
        "  example['proportion_bullet_points'] = features['proportion_bullet_points']\n",
        "  example['flesch_reading_ease'] = features['flesch_reading_ease']\n",
        "  example['flesch_kincaid_grade'] = features['flesch_kincaid_grade']\n",
        "  example['gunning_fog'] = features['gunning_fog']\n",
        "  example['coleman_liau_index'] = features['coleman_liau_index']\n",
        "  example['oov_ratio'] = features['oov_ratio']\n",
        "\n",
        "\n",
        "  return example\n"
      ],
      "metadata": {
        "id": "_MWPuld48H1M"
      },
      "execution_count": null,
      "outputs": []
    },
    {
      "cell_type": "markdown",
      "source": [
        "# Adding modifications and saving the dataset"
      ],
      "metadata": {
        "id": "KNMZB8DG9YBs"
      }
    },
    {
      "cell_type": "markdown",
      "source": [
        "Since the original dataset is on &#x1F917;HuggingFace, I can make use of the advantages of the `datasets` library. Check out its documentation [here](https://huggingface.co/docs/datasets/index)!\n",
        "\n",
        "It took only a few steps to generate a new dataset. I started with loading the original dataset and transforming it into a desired format."
      ],
      "metadata": {
        "id": "0pIB0IGXJmbf"
      }
    },
    {
      "cell_type": "code",
      "source": [
        "dataset = load_dataset('aadityaubhat/GPT-wiki-intro', split='train')"
      ],
      "metadata": {
        "id": "q0gGGZgX7Z4l"
      },
      "execution_count": null,
      "outputs": []
    },
    {
      "cell_type": "code",
      "source": [
        "wiki = dataset.remove_columns(['id', 'url', 'title', 'generated_intro', 'title_len', 'wiki_intro_len', 'generated_intro_len', 'prompt', 'generated_text', 'prompt_tokens', 'generated_text_tokens'])\n",
        "gpt = dataset.remove_columns(['id', 'url', 'title', 'wiki_intro', 'title_len', 'wiki_intro_len', 'generated_intro_len', 'prompt', 'generated_text', 'prompt_tokens', 'generated_text_tokens'])\n",
        "wiki = wiki.rename_column('wiki_intro', 'text')\n",
        "gpt = gpt.rename_column('generated_intro', 'text')\n",
        "concatenated_dataset = concatenate_datasets([wiki,gpt])"
      ],
      "metadata": {
        "id": "mRGuJc0f7dbh"
      },
      "execution_count": null,
      "outputs": []
    },
    {
      "cell_type": "markdown",
      "source": [
        "Now, my dataset consists of 300k rows and just one column `text`. First in order are 150k texts from Wikipedia, followed by 150k generated texts. Knowing this, I can create a new `class` column with 0 meaning Wikipedia and 1 meaning ChatGPT."
      ],
      "metadata": {
        "id": "Fu7wx0cbLK4s"
      }
    },
    {
      "cell_type": "code",
      "source": [
        "class_gpt = np.repeat(1, 150000)\n",
        "class_wiki = np.repeat(0, 150000)\n",
        "binary_class = np.concatenate((class_wiki, class_gpt), axis = 0)\n",
        "concatenated_dataset = concatenated_dataset.add_column('class',binary_class)"
      ],
      "metadata": {
        "id": "GS3XWIF_7jS0"
      },
      "execution_count": null,
      "outputs": []
    },
    {
      "cell_type": "markdown",
      "source": [
        "Here, I set some global variables. `nlp` is used by TextDescriptives library (which in turn makes use of [Spacy](https://spacy.io/)) in order to parse the input text and `max_bigram_entropy` is used by the `add_features` function."
      ],
      "metadata": {
        "id": "MSRF8zIcL9nu"
      }
    },
    {
      "cell_type": "code",
      "source": [
        "nlp = spacy.load(\"en_core_web_lg\")\n",
        "nlp.add_pipe(\"textdescriptives/all\")\n",
        "max_bigram_entropy = estimate_max_bigram_entropy(concatenated_dataset)"
      ],
      "metadata": {
        "id": "2hemnITt8Fg6"
      },
      "execution_count": null,
      "outputs": []
    },
    {
      "cell_type": "markdown",
      "source": [
        "300k rows is a big number. I randomly selected an equal number of rows from both classes to be included in the final dataset."
      ],
      "metadata": {
        "id": "Lr1UokcQM8d-"
      }
    },
    {
      "cell_type": "markdown",
      "source": [
        "NOTE: this chunk of code was only used to generate the smaller version of the dataset. "
      ],
      "metadata": {
        "id": "T2HwAAptmxoi"
      }
    },
    {
      "cell_type": "code",
      "source": [
        "wiki_to_select = list(random.sample(range(0,150000),50000))\n",
        "gpt_to_select = list(random.sample(range(150000,300000),50000))\n",
        "to_select = wiki_to_select + gpt_to_select\n",
        "selected_dataset = concatenated_dataset.select(to_select)"
      ],
      "metadata": {
        "id": "BZlMre4d8Mkt"
      },
      "execution_count": null,
      "outputs": []
    },
    {
      "cell_type": "markdown",
      "source": [
        "Now I can apply the features calculation to each of the selected texts."
      ],
      "metadata": {
        "id": "BIcjJQigNMYs"
      }
    },
    {
      "cell_type": "code",
      "source": [
        "selected_dataset = selected_dataset.map(add_features, num_proc = 2) "
      ],
      "metadata": {
        "id": "1czyacJkNRew"
      },
      "execution_count": null,
      "outputs": []
    },
    {
      "cell_type": "code",
      "source": [
        "selected_dataset = selected_dataset.map(add_spacy_features, num_proc = 2)"
      ],
      "metadata": {
        "id": "0WUN35898OTb"
      },
      "execution_count": null,
      "outputs": []
    },
    {
      "cell_type": "markdown",
      "source": [
        "And finally save the dataset!"
      ],
      "metadata": {
        "id": "k8HQi0A_NqlG"
      }
    },
    {
      "cell_type": "code",
      "source": [
        "selected_dataset.save_to_disk('.../small-GPT-wiki-intro-features')"
      ],
      "metadata": {
        "id": "S3o0RwNq7q2e"
      },
      "execution_count": null,
      "outputs": []
    },
    {
      "cell_type": "markdown",
      "source": [
        "# Bonus"
      ],
      "metadata": {
        "id": "0fQXuAv_NtGk"
      }
    },
    {
      "cell_type": "markdown",
      "source": [
        "Let's have a quick inital look at how those features perform in the classification task using a simple Random Forest model."
      ],
      "metadata": {
        "id": "zNp8J_lnNuJP"
      }
    },
    {
      "cell_type": "code",
      "source": [
        "from sklearn.impute import SimpleImputer\n",
        "from sklearn.model_selection import cross_val_score\n",
        "from sklearn.model_selection import train_test_split\n",
        "from sklearn.ensemble import RandomForestClassifier\n",
        "from sklearn.metrics import confusion_matrix\n",
        "from sklearn.metrics import f1_score\n",
        "from sklearn.pipeline import Pipeline"
      ],
      "metadata": {
        "id": "Bua-emNGN_zQ"
      },
      "execution_count": null,
      "outputs": []
    },
    {
      "cell_type": "code",
      "source": [
        "my_dataset = load_dataset('julia-lukasiewicz-pater/small-GPT-wiki-intro-features', split = 'train')"
      ],
      "metadata": {
        "colab": {
          "base_uri": "https://localhost:8080/",
          "height": 200,
          "referenced_widgets": [
            "cec7ce5a710b44b6a2fd7ff89b3093d8",
            "e4ba7c4fbf1742438c21b68daa6061d8",
            "54d2c8d68f1746aea22aeab5f1d4904a",
            "bb4623ec55df46b58900262686ddad4c",
            "c8c4017b49b649b4bae02859861efa4c",
            "a438d3641a714965b07808c0e421d2d5",
            "674b9e5df576411c8b2d87671e9cb459",
            "c14f500fd30c4aeb880b6099907164b2",
            "c783ed54b04e4846aea2d5ce77fed843",
            "aef10a4713c049749f1554f99c5b8b71",
            "21da2b757c294cdc8bfe001d166f401a",
            "b094f3adea504d0e8843c5eb0edccbee",
            "1af8487650e345fe971bd584aa055d76",
            "eac263c2b98345628c7474afc796c8e7",
            "69f420f24fb742d99123444a6b3dbeb2",
            "76cb66a6e50f462aa8ac5e8317573c8e",
            "683307bf95a04dad918f5b143ab91d40",
            "29c3a76f65e44991b4dc559e3725c58a",
            "81de3f5bc77a449686c90ce7ed029fb8",
            "3f5484c5437b4952b7a7f6c1bf9622f6",
            "a93b6bf6c74642cfbb4a87e3d05244af",
            "1f13e74c255a4c6d9eba4b19bb016012",
            "c2ee20301bdf4c6692653356f70e94ea",
            "6efbdc0c51774befaca3e2bfe8d27d74",
            "8060b8b620e246aa94567d090efef1e7",
            "f2251fde83c548009adac57f242318a1",
            "59a21635bbe44005910b64bd31e29a54",
            "1db6767fc4eb4ff98bc03e3b7d836455",
            "232856e22411494b89dc202ef88b61d6",
            "8cbe7733eb434dd5920555418dc09362",
            "f2a14f5a6e4c447ca88f8fbe2a1afbd3",
            "6c9cf968220c4ff5886788548596c897",
            "a58efa13770340e191b86e12ebb2dc8f",
            "2aaed71bdd3b426abddafc7baaaf2462",
            "3d292c5a15db4876808bdeed88e962fb",
            "3e8b7e668efb47b5a166e52494bb50eb",
            "054a71b0e12f4d3ba17897169d4f2349",
            "bbdfa7a0d37f4c8994ffbf7f90b35279",
            "60ddab2cfe534b62be2cea1283232a23",
            "b15b2cc1b5f04e0a8e8853e3b4dea8bb",
            "b5d9d1412696459fa95ed8b1e66325c1",
            "4f90dd1e4fd74573add6803ac067f200",
            "5e9fe845d2334beb8e2388e7ef11aa41",
            "de957686f05749d585c63d2baab9c90e",
            "e91e4a9b8c4b4fb5adbba2755297eae4",
            "ee967191f61545249868a061f9045fec",
            "c949e1fb830740808b7396f77dcc9732",
            "8e06f6907ad04479b0ef6b760c54f832",
            "72aa2d2a58c4423f9f09c4b91a5dc218",
            "54650c7e30fc44d093574af578927682",
            "675796282e79459f946aaa2aadf6ffa5",
            "9e2c2791ce964ce698216ec7ba307c55",
            "5f25073f55f34f45bdd1446d7c690d41",
            "2da03b7335ec4bb7a129e9b20f06f76d",
            "0e654d7d823949f191c5ec1dd457d6d1"
          ]
        },
        "id": "G5dC65ErQ7iY",
        "outputId": "f36da013-a27f-491e-8bed-15c7861984a9"
      },
      "execution_count": null,
      "outputs": [
        {
          "output_type": "display_data",
          "data": {
            "text/plain": [
              "Downloading readme:   0%|          | 0.00/5.01k [00:00<?, ?B/s]"
            ],
            "application/vnd.jupyter.widget-view+json": {
              "version_major": 2,
              "version_minor": 0,
              "model_id": "cec7ce5a710b44b6a2fd7ff89b3093d8"
            }
          },
          "metadata": {}
        },
        {
          "output_type": "stream",
          "name": "stdout",
          "text": [
            "Downloading and preparing dataset csv/julia-lukasiewicz-pater--small-GPT-wiki-intro-features to /root/.cache/huggingface/datasets/julia-lukasiewicz-pater___csv/julia-lukasiewicz-pater--small-GPT-wiki-intro-features-3eb385516bd1dc74/0.0.0/6954658bab30a358235fa864b05cf819af0e179325c740e4bc853bcc7ec513e1...\n"
          ]
        },
        {
          "output_type": "display_data",
          "data": {
            "text/plain": [
              "Downloading data files:   0%|          | 0/1 [00:00<?, ?it/s]"
            ],
            "application/vnd.jupyter.widget-view+json": {
              "version_major": 2,
              "version_minor": 0,
              "model_id": "b094f3adea504d0e8843c5eb0edccbee"
            }
          },
          "metadata": {}
        },
        {
          "output_type": "display_data",
          "data": {
            "text/plain": [
              "Downloading data:   0%|          | 0.00/180M [00:00<?, ?B/s]"
            ],
            "application/vnd.jupyter.widget-view+json": {
              "version_major": 2,
              "version_minor": 0,
              "model_id": "c2ee20301bdf4c6692653356f70e94ea"
            }
          },
          "metadata": {}
        },
        {
          "output_type": "display_data",
          "data": {
            "text/plain": [
              "Extracting data files:   0%|          | 0/1 [00:00<?, ?it/s]"
            ],
            "application/vnd.jupyter.widget-view+json": {
              "version_major": 2,
              "version_minor": 0,
              "model_id": "2aaed71bdd3b426abddafc7baaaf2462"
            }
          },
          "metadata": {}
        },
        {
          "output_type": "display_data",
          "data": {
            "text/plain": [
              "Generating train split: 0 examples [00:00, ? examples/s]"
            ],
            "application/vnd.jupyter.widget-view+json": {
              "version_major": 2,
              "version_minor": 0,
              "model_id": "e91e4a9b8c4b4fb5adbba2755297eae4"
            }
          },
          "metadata": {}
        },
        {
          "output_type": "stream",
          "name": "stdout",
          "text": [
            "Dataset csv downloaded and prepared to /root/.cache/huggingface/datasets/julia-lukasiewicz-pater___csv/julia-lukasiewicz-pater--small-GPT-wiki-intro-features-3eb385516bd1dc74/0.0.0/6954658bab30a358235fa864b05cf819af0e179325c740e4bc853bcc7ec513e1. Subsequent calls will reuse this data.\n"
          ]
        }
      ]
    },
    {
      "cell_type": "code",
      "source": [
        "my_dataset"
      ],
      "metadata": {
        "colab": {
          "base_uri": "https://localhost:8080/"
        },
        "id": "cW-IkT7cR0Oq",
        "outputId": "59df21fc-fa67-4047-d708-61a004d797d3"
      },
      "execution_count": null,
      "outputs": [
        {
          "output_type": "execute_result",
          "data": {
            "text/plain": [
              "Dataset({\n",
              "    features: ['Unnamed: 0', 'text', 'normalized_bigram_entropy', 'mean_word_length', 'mean_sent_length', 'fog', 'ari', 'dale_chall', 'hdd', 'mtld', 'mattr', 'number_of_ADJ', 'number_of_ADP', 'number_of_ADV', 'number_of_CONJ', 'number_of_DET', 'number_of_NOUN', 'number_of_NUM', 'number_of_PRT', 'number_of_PRON', 'number_of_VERB', 'number_of_DOT', 'number_of_X', 'class', 'spacy_perplexity', 'entropy', 'automated_readability_index', 'per_word_spacy_perplexity', 'dependency_distance_mean', 'dependency_distance_std', 'first_order_coherence', 'second_order_coherence', 'smog', 'prop_adjacent_dependency_relation_mean', 'prop_adjacent_dependency_relation_std', 'syllables_per_token_mean', 'syllables_per_token_median', 'token_length_std', 'token_length_median', 'sentence_length_median', 'syllables_per_token_std', 'proportion_unique_tokens', 'top_ngram_chr_fraction_3', 'top_ngram_chr_fraction_2', 'top_ngram_chr_fraction_4', 'proportion_bullet_points', 'flesch_reading_ease', 'flesch_kincaid_grade', 'gunning_fog', 'coleman_liau_index', 'oov_ratio'],\n",
              "    num_rows: 100000\n",
              "})"
            ]
          },
          "metadata": {},
          "execution_count": 25
        }
      ]
    },
    {
      "cell_type": "code",
      "source": [
        "my_dataset = my_dataset.remove_columns(['text', 'Unnamed: 0'])\n",
        "my_dataset = my_dataset.shuffle(seed=42)\n",
        "my_dataset = pd.DataFrame(my_dataset)\n",
        "y = my_dataset['class']\n",
        "X = my_dataset.drop(['class'],axis=1)"
      ],
      "metadata": {
        "id": "5Ky5cj3MO8nO"
      },
      "execution_count": null,
      "outputs": []
    },
    {
      "cell_type": "code",
      "source": [
        "model = RandomForestClassifier(verbose=1)\n",
        "X_train, X_test, y_train, y_test = train_test_split(X, y, test_size=0.2, random_state=42)\n",
        "my_pipeline = Pipeline(steps=[('imputer', SimpleImputer(strategy = 'constant', fill_value = 0)),\n",
        "                              ('model', RandomForestClassifier(random_state=42))\n",
        "                             ])\n",
        "score = cross_val_score(my_pipeline, X_train, y_train, cv = 5, scoring = 'f1')"
      ],
      "metadata": {
        "id": "VD8FSwgoPZ93"
      },
      "execution_count": null,
      "outputs": []
    },
    {
      "cell_type": "code",
      "source": [
        "#Cross-validation scores\n",
        "score"
      ],
      "metadata": {
        "colab": {
          "base_uri": "https://localhost:8080/"
        },
        "id": "b9ZuyeTjQrC5",
        "outputId": "05146792-2657-41d9-83b7-1cce8621ef23"
      },
      "execution_count": null,
      "outputs": [
        {
          "output_type": "execute_result",
          "data": {
            "text/plain": [
              "array([0.91619677, 0.91563932, 0.91371994, 0.91443678, 0.91393469])"
            ]
          },
          "metadata": {},
          "execution_count": 30
        }
      ]
    },
    {
      "cell_type": "code",
      "source": [
        "my_pipeline.fit(X_train,y_train)\n",
        "preds = my_pipeline.predict(X_test)\n",
        "f1 = f1_score(y_test, preds)\n",
        "\n",
        "#F1 score on the test set\n",
        "f1"
      ],
      "metadata": {
        "colab": {
          "base_uri": "https://localhost:8080/"
        },
        "id": "LdGDfxcjvW6h",
        "outputId": "ab45e856-79dd-46d4-83b4-36f10aac2c35"
      },
      "execution_count": null,
      "outputs": [
        {
          "output_type": "execute_result",
          "data": {
            "text/plain": [
              "0.9127233407136605"
            ]
          },
          "metadata": {},
          "execution_count": 32
        }
      ]
    },
    {
      "cell_type": "markdown",
      "source": [
        ":)"
      ],
      "metadata": {
        "id": "8HcnsQJavI2S"
      }
    }
  ]
}